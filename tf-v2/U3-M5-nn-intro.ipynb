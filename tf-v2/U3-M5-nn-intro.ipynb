{
  "nbformat": 4,
  "nbformat_minor": 0,
  "metadata": {
    "colab": {
      "name": "U3-M5-nn-intro.ipynb",
      "provenance": [],
      "include_colab_link": true
    },
    "kernelspec": {
      "display_name": "Python 3",
      "language": "python",
      "name": "python3"
    },
    "accelerator": "GPU"
  },
  "cells": [
    {
      "cell_type": "markdown",
      "metadata": {
        "id": "view-in-github",
        "colab_type": "text"
      },
      "source": [
        "<a href=\"https://colab.research.google.com/github/DJCordhose/zeigermann/blob/master/tf-v2/U3-M5-nn-intro.ipynb\" target=\"_parent\"><img src=\"https://colab.research.google.com/assets/colab-badge.svg\" alt=\"Open In Colab\"/></a>"
      ]
    },
    {
      "cell_type": "markdown",
      "metadata": {
        "id": "XdfXfXK2-CiG",
        "colab_type": "text"
      },
      "source": [
        "# Introduction to Neural Networks with TensorFlow and Keras layers\n",
        "\n",
        "## Converted to TensorFlow 2\n"
      ]
    },
    {
      "cell_type": "code",
      "metadata": {
        "id": "hJR5Gb0X-CiJ",
        "colab_type": "code",
        "colab": {}
      },
      "source": [
        "import warnings\n",
        "warnings.filterwarnings('ignore')"
      ],
      "execution_count": 0,
      "outputs": []
    },
    {
      "cell_type": "code",
      "metadata": {
        "id": "H6-QKhzW-CiN",
        "colab_type": "code",
        "outputId": "fcec83cf-752e-445c-88df-12dd0e2550a0",
        "colab": {
          "base_uri": "https://localhost:8080/",
          "height": 34
        }
      },
      "source": [
        "%matplotlib inline\n",
        "%pylab inline\n",
        "import matplotlib.pyplot as plt"
      ],
      "execution_count": 3,
      "outputs": [
        {
          "output_type": "stream",
          "text": [
            "Populating the interactive namespace from numpy and matplotlib\n"
          ],
          "name": "stdout"
        }
      ]
    },
    {
      "cell_type": "code",
      "metadata": {
        "id": "ezwqxSlf-CiS",
        "colab_type": "code",
        "outputId": "c3ee942c-9261-4414-d2e0-341608cb2aae",
        "colab": {
          "base_uri": "https://localhost:8080/",
          "height": 34
        }
      },
      "source": [
        "import pandas as pd\n",
        "print(pd.__version__)"
      ],
      "execution_count": 4,
      "outputs": [
        {
          "output_type": "stream",
          "text": [
            "0.25.3\n"
          ],
          "name": "stdout"
        }
      ]
    },
    {
      "cell_type": "code",
      "metadata": {
        "id": "0rEa6M11-CiY",
        "colab_type": "code",
        "outputId": "e83d09d0-7869-4a24-9555-3ba0007d95f4",
        "colab": {
          "base_uri": "https://localhost:8080/",
          "height": 34
        }
      },
      "source": [
        "try:\n",
        "  # %tensorflow_version only exists in Colab.\n",
        "  %tensorflow_version 2.x\n",
        "except Exception:\n",
        "  pass\n",
        "\n",
        "import tensorflow as tf\n",
        "tf.__version__"
      ],
      "execution_count": 5,
      "outputs": [
        {
          "output_type": "execute_result",
          "data": {
            "text/plain": [
              "'2.0.0'"
            ]
          },
          "metadata": {
            "tags": []
          },
          "execution_count": 5
        }
      ]
    },
    {
      "cell_type": "markdown",
      "metadata": {
        "id": "TcNRk70X-Cio",
        "colab_type": "text"
      },
      "source": [
        "## Loading and preparing our data set for classification"
      ]
    },
    {
      "cell_type": "code",
      "metadata": {
        "id": "p-opqU1j-Cir",
        "colab_type": "code",
        "outputId": "7d62a5f3-faf3-46cd-ca1c-6061d5ece3de",
        "colab": {
          "base_uri": "https://localhost:8080/",
          "height": 68
        }
      },
      "source": [
        "!curl -O https://raw.githubusercontent.com/DJCordhose/deep-learning-crash-course-notebooks/master/data/insurance-customers-1500.csv"
      ],
      "execution_count": 8,
      "outputs": [
        {
          "output_type": "stream",
          "text": [
            "  % Total    % Received % Xferd  Average Speed   Time    Time     Time  Current\n",
            "                                 Dload  Upload   Total   Spent    Left  Speed\n",
            "\r  0     0    0     0    0     0      0      0 --:--:-- --:--:-- --:--:--     0\r100 26783  100 26783    0     0   118k      0 --:--:-- --:--:-- --:--:--  118k\n"
          ],
          "name": "stdout"
        }
      ]
    },
    {
      "cell_type": "code",
      "metadata": {
        "id": "aHeWRyn4-Civ",
        "colab_type": "code",
        "colab": {}
      },
      "source": [
        "df = pd.read_csv('./insurance-customers-1500.csv', sep=';')"
      ],
      "execution_count": 0,
      "outputs": []
    },
    {
      "cell_type": "code",
      "metadata": {
        "id": "AfSNEY1E-Ciy",
        "colab_type": "code",
        "outputId": "69624d26-78fc-4b26-aa56-6c77216092c1",
        "colab": {
          "base_uri": "https://localhost:8080/",
          "height": 204
        }
      },
      "source": [
        "df.head()"
      ],
      "execution_count": 10,
      "outputs": [
        {
          "output_type": "execute_result",
          "data": {
            "text/html": [
              "<div>\n",
              "<style scoped>\n",
              "    .dataframe tbody tr th:only-of-type {\n",
              "        vertical-align: middle;\n",
              "    }\n",
              "\n",
              "    .dataframe tbody tr th {\n",
              "        vertical-align: top;\n",
              "    }\n",
              "\n",
              "    .dataframe thead th {\n",
              "        text-align: right;\n",
              "    }\n",
              "</style>\n",
              "<table border=\"1\" class=\"dataframe\">\n",
              "  <thead>\n",
              "    <tr style=\"text-align: right;\">\n",
              "      <th></th>\n",
              "      <th>speed</th>\n",
              "      <th>age</th>\n",
              "      <th>miles</th>\n",
              "      <th>group</th>\n",
              "    </tr>\n",
              "  </thead>\n",
              "  <tbody>\n",
              "    <tr>\n",
              "      <th>0</th>\n",
              "      <td>98.0</td>\n",
              "      <td>44.0</td>\n",
              "      <td>25.0</td>\n",
              "      <td>1</td>\n",
              "    </tr>\n",
              "    <tr>\n",
              "      <th>1</th>\n",
              "      <td>118.0</td>\n",
              "      <td>54.0</td>\n",
              "      <td>24.0</td>\n",
              "      <td>1</td>\n",
              "    </tr>\n",
              "    <tr>\n",
              "      <th>2</th>\n",
              "      <td>111.0</td>\n",
              "      <td>26.0</td>\n",
              "      <td>34.0</td>\n",
              "      <td>0</td>\n",
              "    </tr>\n",
              "    <tr>\n",
              "      <th>3</th>\n",
              "      <td>97.0</td>\n",
              "      <td>25.0</td>\n",
              "      <td>10.0</td>\n",
              "      <td>2</td>\n",
              "    </tr>\n",
              "    <tr>\n",
              "      <th>4</th>\n",
              "      <td>114.0</td>\n",
              "      <td>38.0</td>\n",
              "      <td>22.0</td>\n",
              "      <td>1</td>\n",
              "    </tr>\n",
              "  </tbody>\n",
              "</table>\n",
              "</div>"
            ],
            "text/plain": [
              "   speed   age  miles  group\n",
              "0   98.0  44.0   25.0      1\n",
              "1  118.0  54.0   24.0      1\n",
              "2  111.0  26.0   34.0      0\n",
              "3   97.0  25.0   10.0      2\n",
              "4  114.0  38.0   22.0      1"
            ]
          },
          "metadata": {
            "tags": []
          },
          "execution_count": 10
        }
      ]
    },
    {
      "cell_type": "code",
      "metadata": {
        "id": "sws5BYF4-Ci4",
        "colab_type": "code",
        "outputId": "9d1b6cf1-9635-4bdb-e679-9f368d062d38",
        "colab": {
          "base_uri": "https://localhost:8080/",
          "height": 297
        }
      },
      "source": [
        "df.describe()"
      ],
      "execution_count": 11,
      "outputs": [
        {
          "output_type": "execute_result",
          "data": {
            "text/html": [
              "<div>\n",
              "<style scoped>\n",
              "    .dataframe tbody tr th:only-of-type {\n",
              "        vertical-align: middle;\n",
              "    }\n",
              "\n",
              "    .dataframe tbody tr th {\n",
              "        vertical-align: top;\n",
              "    }\n",
              "\n",
              "    .dataframe thead th {\n",
              "        text-align: right;\n",
              "    }\n",
              "</style>\n",
              "<table border=\"1\" class=\"dataframe\">\n",
              "  <thead>\n",
              "    <tr style=\"text-align: right;\">\n",
              "      <th></th>\n",
              "      <th>speed</th>\n",
              "      <th>age</th>\n",
              "      <th>miles</th>\n",
              "      <th>group</th>\n",
              "    </tr>\n",
              "  </thead>\n",
              "  <tbody>\n",
              "    <tr>\n",
              "      <th>count</th>\n",
              "      <td>1500.000000</td>\n",
              "      <td>1500.000000</td>\n",
              "      <td>1500.000000</td>\n",
              "      <td>1500.000000</td>\n",
              "    </tr>\n",
              "    <tr>\n",
              "      <th>mean</th>\n",
              "      <td>122.492667</td>\n",
              "      <td>44.980667</td>\n",
              "      <td>30.434000</td>\n",
              "      <td>0.998667</td>\n",
              "    </tr>\n",
              "    <tr>\n",
              "      <th>std</th>\n",
              "      <td>17.604333</td>\n",
              "      <td>17.130400</td>\n",
              "      <td>15.250815</td>\n",
              "      <td>0.816768</td>\n",
              "    </tr>\n",
              "    <tr>\n",
              "      <th>min</th>\n",
              "      <td>68.000000</td>\n",
              "      <td>16.000000</td>\n",
              "      <td>1.000000</td>\n",
              "      <td>0.000000</td>\n",
              "    </tr>\n",
              "    <tr>\n",
              "      <th>25%</th>\n",
              "      <td>108.000000</td>\n",
              "      <td>32.000000</td>\n",
              "      <td>18.000000</td>\n",
              "      <td>0.000000</td>\n",
              "    </tr>\n",
              "    <tr>\n",
              "      <th>50%</th>\n",
              "      <td>120.000000</td>\n",
              "      <td>42.000000</td>\n",
              "      <td>29.000000</td>\n",
              "      <td>1.000000</td>\n",
              "    </tr>\n",
              "    <tr>\n",
              "      <th>75%</th>\n",
              "      <td>137.000000</td>\n",
              "      <td>55.000000</td>\n",
              "      <td>42.000000</td>\n",
              "      <td>2.000000</td>\n",
              "    </tr>\n",
              "    <tr>\n",
              "      <th>max</th>\n",
              "      <td>166.000000</td>\n",
              "      <td>100.000000</td>\n",
              "      <td>84.000000</td>\n",
              "      <td>2.000000</td>\n",
              "    </tr>\n",
              "  </tbody>\n",
              "</table>\n",
              "</div>"
            ],
            "text/plain": [
              "             speed          age        miles        group\n",
              "count  1500.000000  1500.000000  1500.000000  1500.000000\n",
              "mean    122.492667    44.980667    30.434000     0.998667\n",
              "std      17.604333    17.130400    15.250815     0.816768\n",
              "min      68.000000    16.000000     1.000000     0.000000\n",
              "25%     108.000000    32.000000    18.000000     0.000000\n",
              "50%     120.000000    42.000000    29.000000     1.000000\n",
              "75%     137.000000    55.000000    42.000000     2.000000\n",
              "max     166.000000   100.000000    84.000000     2.000000"
            ]
          },
          "metadata": {
            "tags": []
          },
          "execution_count": 11
        }
      ]
    },
    {
      "cell_type": "markdown",
      "metadata": {
        "id": "sYiqzG7Y-Ci9",
        "colab_type": "text"
      },
      "source": [
        "## First important concept: You train a machine with your data to make it learn the relationship between some input data and a certain label - this is called supervised learning"
      ]
    },
    {
      "cell_type": "markdown",
      "metadata": {
        "id": "7UuM67h--Ci-",
        "colab_type": "text"
      },
      "source": [
        "<img src='https://raw.githubusercontent.com/DJCordhose/deep-learning-crash-course-notebooks/master/img/encoding3.jpg'>"
      ]
    },
    {
      "cell_type": "code",
      "metadata": {
        "id": "PKnruLEO-Ci_",
        "colab_type": "code",
        "colab": {}
      },
      "source": [
        "# we deliberately decide \"group\" is going to be our label, \n",
        "# it is often named lower case y\n",
        "y = df['group']"
      ],
      "execution_count": 0,
      "outputs": []
    },
    {
      "cell_type": "code",
      "metadata": {
        "id": "C22IkDWt-CjB",
        "colab_type": "code",
        "colab": {}
      },
      "source": [
        "# since 'group' is now the label we want to predict, \n",
        "# we need to remove it from the training data \n",
        "df.drop('group', axis='columns', inplace=True)"
      ],
      "execution_count": 0,
      "outputs": []
    },
    {
      "cell_type": "code",
      "metadata": {
        "id": "JBSDw0v7-CjE",
        "colab_type": "code",
        "colab": {}
      },
      "source": [
        "# input data often is named upper case X, \n",
        "# the upper case indicates, that each row is a vector\n",
        "X = df.as_matrix()"
      ],
      "execution_count": 0,
      "outputs": []
    },
    {
      "cell_type": "markdown",
      "metadata": {
        "id": "aaG2cF5X-CjI",
        "colab_type": "text"
      },
      "source": [
        "## Neural Networks using TensorFlow and Keras layers\n",
        "* Neural Networks consist of artificial neurons you organize in layers\n",
        "* each neuron is very simple, but, theoretically, having enough of them in a single layer can approximate any funtion\n",
        "* practically, we use 2 or 3 layers, as this has turned out to work well\n",
        "* the more neurons and the more layers you use the longer the network takes to train\n",
        "* neural networks often are no longer approachable using cross validation and grid search to find suitable hyper parameters"
      ]
    },
    {
      "cell_type": "markdown",
      "metadata": {
        "id": "hLpFL8Az-CjI",
        "colab_type": "text"
      },
      "source": [
        "## Neuron (aka node or unit)\n",
        "\n",
        "A neuron takes a number of numerical inputs, multiplies each with a weight, sums up all weighted input and adds bias (constant) to that sum. From this it creates a single numerical output. For one input (one dimension) this would be a description of a line. For more dimensions this describes a hyper plane that can serve as a decision boundary. Typically, this output is transformed using an activation function which compresses the output to a value between 0 and 1 (sigmoid), or between -1 and 1 (tanh) or sets all negative values to zero (relu).\n",
        "\n",
        "It is not really important to understand the details of a neural network. Practically how you configure them to form something more powerful is much more important. This, however, is still a very experimental domain, so there really is no conscise explanation and understanding how they work.\n",
        "\n",
        "<img src='https://raw.githubusercontent.com/DJCordhose/deep-learning-crash-course-notebooks/master/img/neuron.jpg'>"
      ]
    },
    {
      "cell_type": "markdown",
      "metadata": {
        "id": "wqxVRG2H-CjJ",
        "colab_type": "text"
      },
      "source": [
        "### We use a sequential mode, that means data flows without junctions from in to out"
      ]
    },
    {
      "cell_type": "code",
      "metadata": {
        "id": "dFHfRNI2-CjK",
        "colab_type": "code",
        "colab": {}
      },
      "source": [
        "model = tf.keras.Sequential()"
      ],
      "execution_count": 0,
      "outputs": []
    },
    {
      "cell_type": "markdown",
      "metadata": {
        "id": "YI3EeBRv-CjO",
        "colab_type": "text"
      },
      "source": [
        "### We start with a single fully connected layer having 50 neurons\n",
        "* we have three inputs\n",
        "  * age \n",
        "  * speed\n",
        "  * miles\n",
        "* activation function is tanh\n",
        "* why these parameters: random for now"
      ]
    },
    {
      "cell_type": "code",
      "metadata": {
        "id": "klm54Eiw-CjO",
        "colab_type": "code",
        "colab": {}
      },
      "source": [
        "from tensorflow.keras.layers import Dense\n",
        "\n",
        "model.add(Dense(50, name='hidden1', activation='tanh', input_dim=3))"
      ],
      "execution_count": 0,
      "outputs": []
    },
    {
      "cell_type": "markdown",
      "metadata": {
        "id": "OGwiKJh4-CjR",
        "colab_type": "text"
      },
      "source": [
        "### The final layer just transforms to likelyhood for each of our 3 classes"
      ]
    },
    {
      "cell_type": "code",
      "metadata": {
        "id": "ZixW-75K-CjS",
        "colab_type": "code",
        "colab": {}
      },
      "source": [
        "num_categories = 3\n",
        "model.add(Dense(num_categories, name='softmax', activation='softmax'))"
      ],
      "execution_count": 0,
      "outputs": []
    },
    {
      "cell_type": "markdown",
      "metadata": {
        "id": "MH_gda8M-CjU",
        "colab_type": "text"
      },
      "source": [
        "### First, let us have a look at how the input and output from this model would look like\n",
        "\n",
        "* this model has not been trainined, so do not expect the outputs to be reasonable\n",
        "* we are only interested in the format of input and output\n",
        "* note that there is a mismatch between prediction and our known truths in format\n",
        "* we will fix this in the next step"
      ]
    },
    {
      "cell_type": "code",
      "metadata": {
        "id": "M0JQ_Wm_-CjU",
        "colab_type": "code",
        "colab": {}
      },
      "source": [
        "input = X[0:10]"
      ],
      "execution_count": 0,
      "outputs": []
    },
    {
      "cell_type": "code",
      "metadata": {
        "id": "UYYe3Uzw-CjX",
        "colab_type": "code",
        "outputId": "a5ed2d8a-e54b-44f9-bed7-caf345799ce7",
        "colab": {
          "base_uri": "https://localhost:8080/",
          "height": 187
        }
      },
      "source": [
        "# combinations of customer data\n",
        "input"
      ],
      "execution_count": 19,
      "outputs": [
        {
          "output_type": "execute_result",
          "data": {
            "text/plain": [
              "array([[ 98.,  44.,  25.],\n",
              "       [118.,  54.,  24.],\n",
              "       [111.,  26.,  34.],\n",
              "       [ 97.,  25.,  10.],\n",
              "       [114.,  38.,  22.],\n",
              "       [130.,  55.,  34.],\n",
              "       [118.,  40.,  51.],\n",
              "       [143.,  42.,  34.],\n",
              "       [120.,  41.,  42.],\n",
              "       [148.,  33.,  53.]])"
            ]
          },
          "metadata": {
            "tags": []
          },
          "execution_count": 19
        }
      ]
    },
    {
      "cell_type": "code",
      "metadata": {
        "id": "3pSqeszs-Cjc",
        "colab_type": "code",
        "outputId": "ce79d66e-e3a3-4cc7-ca89-f799c172ac70",
        "colab": {
          "base_uri": "https://localhost:8080/",
          "height": 187
        }
      },
      "source": [
        "# predicted output: likeliyhoods for groups\n",
        "model.predict(input)"
      ],
      "execution_count": 20,
      "outputs": [
        {
          "output_type": "execute_result",
          "data": {
            "text/plain": [
              "array([[0.46610078, 0.32387236, 0.21002688],\n",
              "       [0.48765177, 0.2565395 , 0.2558088 ],\n",
              "       [0.5570883 , 0.27318966, 0.169722  ],\n",
              "       [0.805481  , 0.09725684, 0.0972622 ],\n",
              "       [0.45713836, 0.35361502, 0.18924655],\n",
              "       [0.45375952, 0.35602275, 0.1902177 ],\n",
              "       [0.4418554 , 0.41990814, 0.13823648],\n",
              "       [0.4615328 , 0.35876316, 0.17970406],\n",
              "       [0.44258392, 0.41867197, 0.13874409],\n",
              "       [0.55447304, 0.26736972, 0.17815726]], dtype=float32)"
            ]
          },
          "metadata": {
            "tags": []
          },
          "execution_count": 20
        }
      ]
    },
    {
      "cell_type": "code",
      "metadata": {
        "id": "staTVEsp-Cjf",
        "colab_type": "code",
        "outputId": "c5ddeaf8-4e49-4388-bf20-0bfa833754a1",
        "colab": {
          "base_uri": "https://localhost:8080/",
          "height": 204
        }
      },
      "source": [
        "# true, known output\n",
        "y[0:10]"
      ],
      "execution_count": 21,
      "outputs": [
        {
          "output_type": "execute_result",
          "data": {
            "text/plain": [
              "0    1\n",
              "1    1\n",
              "2    0\n",
              "3    2\n",
              "4    1\n",
              "5    0\n",
              "6    0\n",
              "7    1\n",
              "8    2\n",
              "9    0\n",
              "Name: group, dtype: int64"
            ]
          },
          "metadata": {
            "tags": []
          },
          "execution_count": 21
        }
      ]
    },
    {
      "cell_type": "markdown",
      "metadata": {
        "id": "60QFCfa_-Cji",
        "colab_type": "text"
      },
      "source": [
        "### These are the parameters of the model that need to be learned"
      ]
    },
    {
      "cell_type": "code",
      "metadata": {
        "id": "lqt6PpWM-Cjj",
        "colab_type": "code",
        "outputId": "9f1d3193-08c5-4623-a241-84e88c04288d",
        "colab": {
          "base_uri": "https://localhost:8080/",
          "height": 221
        }
      },
      "source": [
        "model.summary()"
      ],
      "execution_count": 22,
      "outputs": [
        {
          "output_type": "stream",
          "text": [
            "Model: \"sequential\"\n",
            "_________________________________________________________________\n",
            "Layer (type)                 Output Shape              Param #   \n",
            "=================================================================\n",
            "hidden1 (Dense)              (None, 50)                200       \n",
            "_________________________________________________________________\n",
            "softmax (Dense)              (None, 3)                 153       \n",
            "=================================================================\n",
            "Total params: 353\n",
            "Trainable params: 353\n",
            "Non-trainable params: 0\n",
            "_________________________________________________________________\n"
          ],
          "name": "stdout"
        }
      ]
    },
    {
      "cell_type": "markdown",
      "metadata": {
        "id": "CSI3mK9y-Cjm",
        "colab_type": "text"
      },
      "source": [
        "### Bringing it all together\n",
        "* _sparse_categorical_crossentropy_\n",
        "  * _crossentropy_: Loss is defined by https://en.wikipedia.org/wiki/Cross_entropy\n",
        "  * _categorical_: we are comparing categorical data\n",
        "  * _sparse_: allows us to leave our labels as they are without explicitly turning them into a one-hot encoding \n",
        "* _adam_: is the least tedious algorithm to minimize loss (http://cs231n.github.io/neural-networks-3/#ada)\n",
        "  * auto-tunes most important parameters including learning rate   "
      ]
    },
    {
      "cell_type": "code",
      "metadata": {
        "id": "s2EaOaxL-Cjn",
        "colab_type": "code",
        "colab": {}
      },
      "source": [
        "model.compile(loss='sparse_categorical_crossentropy',\n",
        "             optimizer='adam')"
      ],
      "execution_count": 0,
      "outputs": []
    },
    {
      "cell_type": "markdown",
      "metadata": {
        "id": "B-OpSEsA-Cjr",
        "colab_type": "text"
      },
      "source": [
        "# Caution: we have not trained our model, yet, the parameters are still initinialized randomly"
      ]
    }
  ]
}